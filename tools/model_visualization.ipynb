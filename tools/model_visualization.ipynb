{
 "cells": [
  {
   "cell_type": "code",
   "execution_count": 42,
   "metadata": {},
   "outputs": [
    {
     "data": {
      "text/plain": [
       "'\\n模型可视化\\n~~~~~~~~~~~~~~~~\\ncode by wHy\\nAerospace Information Research Institute, Chinese Academy of Sciences\\n751984964@qq.com\\n'"
      ]
     },
     "execution_count": 42,
     "metadata": {},
     "output_type": "execute_result"
    }
   ],
   "source": [
    "#!/.conda/envs/learn python\n",
    "# -*- coding: utf-8 -*-\n",
    "\n",
    "\"\"\"\n",
    "模型可视化\n",
    "230226该程序目前用不了\n",
    "~~~~~~~~~~~~~~~~\n",
    "code by wHy\n",
    "Aerospace Information Research Institute, Chinese Academy of Sciences\n",
    "wanghaoyu191@mails.ucas.ac.cn\n",
    "\"\"\""
   ]
  },
  {
   "cell_type": "code",
   "execution_count": 43,
   "metadata": {},
   "outputs": [],
   "source": [
    "#coding: utf-8\n",
    "import os\n",
    "from PIL import Image\n",
    "import torch\n",
    "import numpy as np\n",
    "import cv2\n",
    "import matplotlib.pyplot as plt\n",
    "import sys\n",
    "\n",
    "sys.path.append(r\"D:\\github_repository\\AGRS_semantic_segmentation\")\n",
    "\n",
    "from networks.DLinknet import DLinkNet34\n",
    "from networks.Unet import Unet"
   ]
  },
  {
   "cell_type": "code",
   "execution_count": 44,
   "metadata": {},
   "outputs": [],
   "source": [
    "def draw_CAM(model_my, img_path, save_path, transform=None, visual_heatmap=False):\n",
    "    '''\n",
    "    绘制 Class Activation Map\n",
    "    :param model: 加载好权重的Pytorch model\n",
    "    :param img_path: 测试图片路径\n",
    "    :param save_path: CAM结果保存路径\n",
    "    :param transform: 输入图像预处理方法\n",
    "    :param visual_heatmap: 是否可视化原始heatmap（调用matplotlib）\n",
    "    :return:\n",
    "    '''\n",
    "    # 图像加载&预处理\n",
    "    img = Image.open(img_path).convert('RGB')\n",
    "    if transform:\n",
    "        img = transform(img)\n",
    "    # img = img.unsqueeze(0)\n",
    " \n",
    "    # 获取模型输出的feature/score\n",
    "    features = model_my.features(img)\n",
    "    output = model_my.classifier(features)\n",
    " \n",
    "    # 为了能读取到中间梯度定义的辅助函数\n",
    "    def extract(g):\n",
    "        global features_grad\n",
    "        features_grad = g\n",
    " \n",
    "    # 预测得分最高的那一类对应的输出score\n",
    "    pred = torch.argmax(output).item()\n",
    "    pred_class = output[:, pred]\n",
    " \n",
    "    features.register_hook(extract)\n",
    "    pred_class.backward() # 计算梯度\n",
    " \n",
    "    grads = features_grad   # 获取梯度\n",
    " \n",
    "    pooled_grads = torch.nn.functional.adaptive_avg_pool2d(grads, (1, 1))\n",
    " \n",
    "    # 此处batch size默认为1，所以去掉了第0维（batch size维）\n",
    "    pooled_grads = pooled_grads[0]\n",
    "    features = features[0]\n",
    "    # 512是最后一层feature的通道数\n",
    "    for i in range(512):\n",
    "        features[i, ...] *= pooled_grads[i, ...]\n",
    " \n",
    "    # 以下部分同Keras版实现\n",
    "    heatmap = features.detach().numpy()\n",
    "    heatmap = np.mean(heatmap, axis=0)\n",
    " \n",
    "    heatmap = np.maximum(heatmap, 0)\n",
    "    heatmap /= np.max(heatmap)\n",
    " \n",
    "    # 可视化原始热力图\n",
    "    if visual_heatmap:\n",
    "        plt.matshow(heatmap)\n",
    "        plt.show()\n",
    " \n",
    "    img = cv2.imread(img_path)  # 用cv2加载原始图像\n",
    "    heatmap = cv2.resize(heatmap, (img.shape[1], img.shape[0]))  # 将热力图的大小调整为与原始图像相同\n",
    "    heatmap = np.uint8(255 * heatmap)  # 将热力图转换为RGB格式\n",
    "    heatmap = cv2.applyColorMap(heatmap, cv2.COLORMAP_JET)  # 将热力图应用于原始图像\n",
    "    superimposed_img = heatmap * 0.4 + img  # 这里的0.4是热力图强度因子\n",
    "    cv2.imwrite(save_path, superimposed_img)  # 将图像保存到硬盘\n"
   ]
  },
  {
   "cell_type": "code",
   "execution_count": 48,
   "metadata": {},
   "outputs": [
    {
     "ename": "ModuleAttributeError",
     "evalue": "'Unet' object has no attribute 'features'",
     "output_type": "error",
     "traceback": [
      "\u001b[1;31m---------------------------------------------------------------------------\u001b[0m",
      "\u001b[1;31mModuleAttributeError\u001b[0m                      Traceback (most recent call last)",
      "\u001b[1;32m<ipython-input-48-4909fbc648eb>\u001b[0m in \u001b[0;36m<module>\u001b[1;34m()\u001b[0m\n\u001b[0;32m     15\u001b[0m \u001b[0mnet\u001b[0m\u001b[1;33m.\u001b[0m\u001b[0meval\u001b[0m\u001b[1;33m(\u001b[0m\u001b[1;33m)\u001b[0m\u001b[1;33m\u001b[0m\u001b[0m\n\u001b[0;32m     16\u001b[0m \u001b[1;33m\u001b[0m\u001b[0m\n\u001b[1;32m---> 17\u001b[1;33m \u001b[0mdraw_CAM\u001b[0m\u001b[1;33m(\u001b[0m\u001b[0mmodel_my\u001b[0m\u001b[1;33m=\u001b[0m\u001b[0mnet\u001b[0m\u001b[1;33m,\u001b[0m \u001b[0mimg_path\u001b[0m \u001b[1;33m=\u001b[0m \u001b[0mimg_path\u001b[0m\u001b[1;33m,\u001b[0m \u001b[0msave_path\u001b[0m \u001b[1;33m=\u001b[0m \u001b[0msave_path\u001b[0m\u001b[1;33m,\u001b[0m \u001b[0mvisual_heatmap\u001b[0m \u001b[1;33m=\u001b[0m \u001b[1;32mTrue\u001b[0m\u001b[1;33m)\u001b[0m\u001b[1;33m\u001b[0m\u001b[0m\n\u001b[0m",
      "\u001b[1;32m<ipython-input-44-abf331896e65>\u001b[0m in \u001b[0;36mdraw_CAM\u001b[1;34m(model_my, img_path, save_path, transform, visual_heatmap)\u001b[0m\n\u001b[0;32m     16\u001b[0m \u001b[1;33m\u001b[0m\u001b[0m\n\u001b[0;32m     17\u001b[0m     \u001b[1;31m# 获取模型输出的feature/score\u001b[0m\u001b[1;33m\u001b[0m\u001b[1;33m\u001b[0m\u001b[0m\n\u001b[1;32m---> 18\u001b[1;33m     \u001b[0mfeatures\u001b[0m \u001b[1;33m=\u001b[0m \u001b[0mmodel_my\u001b[0m\u001b[1;33m.\u001b[0m\u001b[0mfeatures\u001b[0m\u001b[1;33m(\u001b[0m\u001b[0mimg\u001b[0m\u001b[1;33m)\u001b[0m\u001b[1;33m\u001b[0m\u001b[0m\n\u001b[0m\u001b[0;32m     19\u001b[0m     \u001b[0moutput\u001b[0m \u001b[1;33m=\u001b[0m \u001b[0mmodel_my\u001b[0m\u001b[1;33m.\u001b[0m\u001b[0mclassifier\u001b[0m\u001b[1;33m(\u001b[0m\u001b[0mfeatures\u001b[0m\u001b[1;33m)\u001b[0m\u001b[1;33m\u001b[0m\u001b[0m\n\u001b[0;32m     20\u001b[0m \u001b[1;33m\u001b[0m\u001b[0m\n",
      "\u001b[1;32mc:\\Users\\75198\\.conda\\envs\\learn\\lib\\site-packages\\torch\\nn\\modules\\module.py\u001b[0m in \u001b[0;36m__getattr__\u001b[1;34m(self, name)\u001b[0m\n\u001b[0;32m    777\u001b[0m                 \u001b[1;32mreturn\u001b[0m \u001b[0mmodules\u001b[0m\u001b[1;33m[\u001b[0m\u001b[0mname\u001b[0m\u001b[1;33m]\u001b[0m\u001b[1;33m\u001b[0m\u001b[0m\n\u001b[0;32m    778\u001b[0m         raise ModuleAttributeError(\"'{}' object has no attribute '{}'\".format(\n\u001b[1;32m--> 779\u001b[1;33m             type(self).__name__, name))\n\u001b[0m\u001b[0;32m    780\u001b[0m \u001b[1;33m\u001b[0m\u001b[0m\n\u001b[0;32m    781\u001b[0m     \u001b[1;32mdef\u001b[0m \u001b[0m__setattr__\u001b[0m\u001b[1;33m(\u001b[0m\u001b[0mself\u001b[0m\u001b[1;33m,\u001b[0m \u001b[0mname\u001b[0m\u001b[1;33m:\u001b[0m \u001b[0mstr\u001b[0m\u001b[1;33m,\u001b[0m \u001b[0mvalue\u001b[0m\u001b[1;33m:\u001b[0m \u001b[0mUnion\u001b[0m\u001b[1;33m[\u001b[0m\u001b[0mTensor\u001b[0m\u001b[1;33m,\u001b[0m \u001b[1;34m'Module'\u001b[0m\u001b[1;33m]\u001b[0m\u001b[1;33m)\u001b[0m \u001b[1;33m->\u001b[0m \u001b[1;32mNone\u001b[0m\u001b[1;33m:\u001b[0m\u001b[1;33m\u001b[0m\u001b[0m\n",
      "\u001b[1;31mModuleAttributeError\u001b[0m: 'Unet' object has no attribute 'features'"
     ]
    }
   ],
   "source": [
    "model_path = r'E:\\project_UAV\\3-weights\\UNet-UAV_building_1008.th'\n",
    "num_class = 2\n",
    "band_num = 3\n",
    "img_path = r'E:\\project_UAV\\1-clip_img\\_1.tif'\n",
    "save_path = r'D:\\1data\\230223_vis_test\\vis_test_230223_test_1.png'\n",
    "\n",
    "net = Unet(num_classes = num_class, band_num = band_num)\n",
    "net = net.cuda()\n",
    "net = torch.nn.DataParallel(net, device_ids=range(torch.cuda.device_count()))\n",
    "net.load_state_dict(torch.load(model_path))\n",
    "if isinstance(net, torch.nn.DataParallel):\n",
    "    net = net.module\n",
    "device = torch.device(\"cuda\" if torch.cuda.is_available() else \"cpu\")\n",
    "net = net.to(device)\n",
    "net.eval()\n",
    "\n",
    "draw_CAM(model_my=net, img_path = img_path, save_path = save_path, visual_heatmap = True)"
   ]
  }
 ],
 "metadata": {
  "kernelspec": {
   "display_name": "learn",
   "language": "python",
   "name": "python3"
  },
  "language_info": {
   "codemirror_mode": {
    "name": "ipython",
    "version": 3
   },
   "file_extension": ".py",
   "mimetype": "text/x-python",
   "name": "python",
   "nbconvert_exporter": "python",
   "pygments_lexer": "ipython3",
   "version": "3.6.2"
  },
  "orig_nbformat": 4,
  "vscode": {
   "interpreter": {
    "hash": "2b680ac8dc7cc885ee13e887d55220fc1d64a4b9c526c8bad05b28f452daf75d"
   }
  }
 },
 "nbformat": 4,
 "nbformat_minor": 2
}
