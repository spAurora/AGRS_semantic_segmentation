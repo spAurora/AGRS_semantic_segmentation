{
 "cells": [
  {
   "cell_type": "code",
   "execution_count": 76,
   "metadata": {},
   "outputs": [
    {
     "data": {
      "text/plain": [
       "'\\n根据shp文件中的矩形框裁剪tif影像\\n~~~~~~~~~~~~~~~~\\ncode by wHy\\nAerospace Information Research Institute, Chinese Academy of Sciences\\nwanghaoyu191@mails.ucas.ac.cn\\n'"
      ]
     },
     "execution_count": 76,
     "metadata": {},
     "output_type": "execute_result"
    }
   ],
   "source": [
    "# -*- coding: utf-8 -*-\n",
    "\n",
    "\"\"\"\n",
    "根据shp文件中的矩形框裁剪tif影像\n",
    "~~~~~~~~~~~~~~~~\n",
    "code by wHy\n",
    "Aerospace Information Research Institute, Chinese Academy of Sciences\n",
    "wanghaoyu191@mails.ucas.ac.cn\n",
    "\"\"\""
   ]
  },
  {
   "cell_type": "code",
   "execution_count": 77,
   "metadata": {},
   "outputs": [],
   "source": [
    "import geopandas as gpd \n",
    "import rasterio # rasterio现在必须在python>3.8的版本上才能正确用pip安装\n",
    "from rasterio.mask import mask\n",
    "import fnmatch\n",
    "import os"
   ]
  },
  {
   "cell_type": "code",
   "execution_count": 78,
   "metadata": {},
   "outputs": [],
   "source": [
    "shp_file_path = r'E:\\project_populus_GF2_and_UAV\\sample_points\\clip_boundary.shp'\n",
    "tif_img_path = r'E:\\populus_UAV_img_0508_0510'\n",
    "output_path = r'E:\\project_populus_GF2_and_UAV\\0-clip_polygon_img\\UAV'\n",
    "\n",
    "shp_path, shp__name = os.path.split(shp_file_path)\n",
    "\n",
    "if not os.path.exists(output_path):\n",
    "    os.mkdir(output_path)\n",
    "\n",
    "listpic = fnmatch.filter(os.listdir(tif_img_path), '*.dat')\n",
    "\n",
    "# 读取矩形信息的shp文件\n",
    "rectangles = gpd.read_file(shp_file_path)\n",
    "\n",
    "# 过滤的图像文件列表\n",
    "GF2_IMG_list = ['GF2_PMS2_E84.6_N41.3_20230919_L1A13327707001-MSS2_MS_TOA_fuse.img', 'GF2_PMS1_E84.3_N41.3_20230919_L1A13327621001-MSS1_MS_TOA_fuse.img']\n",
    "UAV_IMG_list = ['20240511_塔河-17_RGB.dat', '20240511_塔河-18_RGB.dat', '20240511_塔河-19_RGB.dat', '20240511_塔河-20_RGB.dat', '20240511-塔河-21_RGB.dat', '20240511_塔河-51_RGB.dat']\n",
    "\n",
    "# 打开大的TIF影像文件\n",
    "for img in listpic:\n",
    "\n",
    "    if img not in UAV_IMG_list: # 图像过滤\n",
    "        continue\n",
    "\n",
    "    img_full_path = tif_img_path + '/' + img\n",
    "\n",
    "    with rasterio.open(img_full_path) as src:\n",
    "        image_bounds = src.bounds  # 影像的边界\n",
    "        for idx, rectangle in rectangles.iterrows():\n",
    "            # 获取矩形的几何信息\n",
    "            geometry = rectangle.geometry\n",
    "\n",
    "            # 获取矩形的边界并与影像的边界进行检查\n",
    "            geom_bounds = geometry.bounds\n",
    "            if not (geom_bounds[2] > image_bounds.left and  # geom maxX > img minX\n",
    "                    geom_bounds[0] < image_bounds.right and  # geom minX < img maxX\n",
    "                    geom_bounds[3] > image_bounds.bottom and  # geom maxY > img minY\n",
    "                    geom_bounds[1] < image_bounds.top):       # geom minY < img maxY\n",
    "                print(f\"Geometry {idx} does not intersect with the image.\")\n",
    "                continue            \n",
    "\n",
    "            # 将矩形的几何信息转换为GeoJSON格式\n",
    "            geojson_geom = [geometry.__geo_interface__]\n",
    "\n",
    "            # 使用rasterio的mask函数裁剪影像\n",
    "            out_image, out_transform = mask(src, geojson_geom, crop=True)\n",
    "\n",
    "            # 通过原始影像的transform属性创建新的裁剪后影像\n",
    "            out_meta = src.meta.copy()\n",
    "            out_meta.update({\"driver\": \"GTiff\",\n",
    "                            \"height\": out_image.shape[1],\n",
    "                            \"width\": out_image.shape[2],\n",
    "                            \"transform\": out_transform,\n",
    "                            \"dtype\":src.meta['dtype']}) # 注意与原始影像位数对齐\n",
    "\n",
    "            # 保存裁剪后影像\n",
    "            # output_filename =img[:-4]+ '_' + shp__name[:-4] + f'_output_{idx}.tif'\n",
    "            output_filename =f'{idx}.tif'\n",
    "            output_full_path = output_path + '/' + output_filename\n",
    "            with rasterio.open(output_full_path, \"w\", **out_meta) as dest:\n",
    "                dest.write(out_image)"
   ]
  }
 ],
 "metadata": {
  "kernelspec": {
   "display_name": "learn",
   "language": "python",
   "name": "python3"
  },
  "language_info": {
   "codemirror_mode": {
    "name": "ipython",
    "version": 3
   },
   "file_extension": ".py",
   "mimetype": "text/x-python",
   "name": "python",
   "nbconvert_exporter": "python",
   "pygments_lexer": "ipython3",
   "version": "3.9.19"
  },
  "orig_nbformat": 4
 },
 "nbformat": 4,
 "nbformat_minor": 2
}
