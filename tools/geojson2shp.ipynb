{
 "cells": [
  {
   "cell_type": "code",
   "execution_count": 3,
   "metadata": {},
   "outputs": [],
   "source": [
    "# -*- coding: utf-8 -*-\n",
    "\n",
    "\"\"\"\n",
    "geojson转shp\n",
    "~~~~~~~~~~~~~~~~\n",
    "code by wHy\n",
    "Aerospace Information Research Institute, Chinese Academy of Sciences\n",
    "Ghent University\n",
    "Haoyu.Wang@ugent.be\n",
    "\"\"\"\n",
    "\n",
    "import geopandas as gpd"
   ]
  },
  {
   "cell_type": "code",
   "execution_count": 4,
   "metadata": {},
   "outputs": [],
   "source": [
    "def convert_geojson_to_shp(input_geojson, output_shp):\n",
    "    # 读取GeoJSON文件\n",
    "    gdf = gpd.read_file(input_geojson)\n",
    "    \n",
    "    # 将数据保存为Shapefile文件\n",
    "    gdf.to_file(output_shp, driver='ESRI Shapefile')\n",
    "\n",
    "input_geojson = r'C:\\Users\\75198\\Documents\\WeChat Files\\wxid_qg2ddhelak9h22\\FileStorage\\File\\2024-04\\stationbasins.geojson'\n",
    "output_shp = r'C:\\Users\\75198\\Documents\\WeChat Files\\wxid_qg2ddhelak9h22\\FileStorage\\File\\2024-04\\stationbasins.shp'\n",
    "convert_geojson_to_shp(input_geojson, output_shp)"
   ]
  }
 ],
 "metadata": {
  "kernelspec": {
   "display_name": "learn",
   "language": "python",
   "name": "python3"
  },
  "language_info": {
   "codemirror_mode": {
    "name": "ipython",
    "version": 3
   },
   "file_extension": ".py",
   "mimetype": "text/x-python",
   "name": "python",
   "nbconvert_exporter": "python",
   "pygments_lexer": "ipython3",
   "version": "3.6.2"
  }
 },
 "nbformat": 4,
 "nbformat_minor": 2
}
