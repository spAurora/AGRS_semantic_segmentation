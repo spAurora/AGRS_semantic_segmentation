{
 "cells": [
  {
   "cell_type": "code",
   "execution_count": 7,
   "metadata": {},
   "outputs": [
    {
     "name": "stderr",
     "output_type": "stream",
     "text": [
      "100%|██████████| 18/18 [00:00<00:00, 217.44it/s]\n"
     ]
    }
   ],
   "source": [
    "#!/.conda/envs/dp python\n",
    "# -*- coding: utf-8 -*-\n",
    "\n",
    "\"\"\"\n",
    "8位影像标签重映射\n",
    "自定义映射表\n",
    "~~~~~~~~~~~~~~~~\n",
    "code by wHy\n",
    "Aerospace Information Research Institute, Chinese Academy of Sciences\n",
    "wanghaoyu191@mails.ucas.ac.cn\n",
    "\"\"\"\n",
    "from pathlib import Path\n",
    "import gdal\n",
    "import os\n",
    "import ogr\n",
    "import osr\n",
    "import sys\n",
    "import math\n",
    "from osgeo.ogr import Geometry, Layer\n",
    "from tqdm import tqdm\n",
    "import numpy as np\n",
    "import fnmatch\n",
    "import copy\n",
    "\n",
    "def write_img(out_path, im_proj, im_geotrans, im_data):\n",
    "    \"\"\"output img\n",
    "\n",
    "    Args:\n",
    "        out_path: Output path\n",
    "        im_proj: Affine transformation parameters\n",
    "        im_geotrans: spatial reference\n",
    "        im_data: Output image data\n",
    "\n",
    "    \"\"\"\n",
    "    # identify data type \n",
    "    if 'int8' in im_data.dtype.name:\n",
    "        datatype = gdal.GDT_Byte\n",
    "    elif 'int16' in im_data.dtype.name:\n",
    "        datatype = gdal.GDT_UInt16\n",
    "    else:\n",
    "        datatype = gdal.GDT_Float32\n",
    "\n",
    "    # calculate number of bands\n",
    "    if len(im_data.shape) > 2:  \n",
    "        im_bands, im_height, im_width = im_data.shape\n",
    "    else:  \n",
    "        im_bands, (im_height, im_width) = 1, im_data.shape\n",
    "\n",
    "    # create new img\n",
    "    driver = gdal.GetDriverByName(\"GTiff\")\n",
    "    new_dataset = driver.Create(\n",
    "        out_path, im_width, im_height, im_bands, datatype)\n",
    "    new_dataset.SetGeoTransform(im_geotrans)\n",
    "    new_dataset.SetProjection(im_proj)\n",
    "    if im_bands == 1:\n",
    "        new_dataset.GetRasterBand(1).WriteArray(im_data)\n",
    "    else:\n",
    "        for i in range(im_bands):\n",
    "            new_dataset.GetRasterBand(i + 1).WriteArray(im_data[i])\n",
    "\n",
    "    del new_dataset\n",
    "\n",
    "def read_img(sr_img):\n",
    "    \"\"\"read img\n",
    "\n",
    "    Args:\n",
    "        sr_img: The full path of the original image\n",
    "\n",
    "    \"\"\"\n",
    "    im_dataset = gdal.Open(sr_img)\n",
    "    if im_dataset == None:\n",
    "        print('open sr_img false')\n",
    "        sys.exit(1)\n",
    "    im_geotrans = im_dataset.GetGeoTransform()\n",
    "    im_proj = im_dataset.GetProjection()\n",
    "    im_width = im_dataset.RasterXSize\n",
    "    im_height = im_dataset.RasterYSize\n",
    "    im_data = im_dataset.ReadAsArray(0, 0, im_width, im_height)\n",
    "    del im_dataset\n",
    "\n",
    "    return im_data, im_proj, im_geotrans\n",
    "\n",
    "sr_label_path = r'E:\\project_hami_limuceng\\0-RF_result_clip\\ori' # 原始标签文件夹\n",
    "output_label_path = r'E:\\project_hami_limuceng\\0-RF_result_clip' # 重映射后的标签文件夹\n",
    "\n",
    "listlabel = fnmatch.filter(os.listdir(sr_label_path), '*.tif')\n",
    "\n",
    "uni_val=set()\n",
    "for label in tqdm(listlabel):\n",
    "    label_full_path = sr_label_path + '/' + label\n",
    "    '''读取label数据'''\n",
    "    data = read_img(label_full_path)[0]\n",
    "    uni_val.update(list(np.unique(data)))\n"
   ]
  },
  {
   "cell_type": "code",
   "execution_count": 8,
   "metadata": {},
   "outputs": [
    {
     "name": "stderr",
     "output_type": "stream",
     "text": [
      "100%|██████████| 18/18 [00:00<00:00, 155.56it/s]\n"
     ]
    }
   ],
   "source": [
    "ori_labels = [127, 0] # 原始标签值\n",
    "target_labels = [0, 1] # 目标标签值，和原始标签值一一对应\n",
    "for label in tqdm(listlabel):\n",
    "    label_full_path = sr_label_path + '/' + label\n",
    "    data, im_proj, im_geotrans = read_img(label_full_path)\n",
    "\n",
    "    data_copy = copy.deepcopy(data)\n",
    "    for cnt, ori_label in enumerate(ori_labels):\n",
    "        data_copy[data == ori_label] = target_labels[cnt]\n",
    "    \n",
    "    output_full_path = output_label_path + '/' + label\n",
    "    write_img(output_full_path, im_proj, im_geotrans, data_copy)"
   ]
  }
 ],
 "metadata": {
  "kernelspec": {
   "display_name": "tf2.3",
   "language": "python",
   "name": "python3"
  },
  "language_info": {
   "codemirror_mode": {
    "name": "ipython",
    "version": 3
   },
   "file_extension": ".py",
   "mimetype": "text/x-python",
   "name": "python",
   "nbconvert_exporter": "python",
   "pygments_lexer": "ipython3",
   "version": "3.9.19"
  },
  "orig_nbformat": 4
 },
 "nbformat": 4,
 "nbformat_minor": 2
}
