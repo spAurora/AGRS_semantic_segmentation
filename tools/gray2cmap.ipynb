{
 "cells": [
  {
   "cell_type": "code",
   "execution_count": 29,
   "metadata": {},
   "outputs": [
    {
     "data": {
      "text/plain": [
       "'\\n灰度标签或预测结果转颜色图\\n~~~~~~~~~~~~~~~~\\ncode by wHy\\nAerospace Information Research Institute, Chinese Academy of Sciences\\nwanghaoyu191@mails.ucas.ac.cn\\n'"
      ]
     },
     "execution_count": 29,
     "metadata": {},
     "output_type": "execute_result"
    }
   ],
   "source": [
    "#!/.conda/envs/learn python\n",
    "# -*- coding: utf-8 -*-\n",
    "\n",
    "\"\"\"\n",
    "灰度标签或预测结果转颜色图\n",
    "~~~~~~~~~~~~~~~~\n",
    "code by wHy\n",
    "Aerospace Information Research Institute, Chinese Academy of Sciences\n",
    "wanghaoyu191@mails.ucas.ac.cn\n",
    "\"\"\""
   ]
  },
  {
   "cell_type": "code",
   "execution_count": 30,
   "metadata": {},
   "outputs": [],
   "source": [
    "from torchvision import transforms\n",
    "import numpy as np\n",
    "import os\n",
    "import fnmatch\n",
    "import torch\n",
    "from tqdm import tqdm\n",
    "import gdal\n",
    "import ogr"
   ]
  },
  {
   "cell_type": "code",
   "execution_count": 31,
   "metadata": {},
   "outputs": [],
   "source": [
    "def write_img(out_path, im_proj, im_geotrans, im_data):\n",
    "    \"\"\"output img\n",
    "\n",
    "    Args:\n",
    "        out_path: Output path\n",
    "        im_proj: Affine transformation parameters\n",
    "        im_geotrans: spatial reference\n",
    "        im_data: Output image data\n",
    "\n",
    "    \"\"\"\n",
    "    # identify data type \n",
    "    if 'int8' in im_data.dtype.name:\n",
    "        datatype = gdal.GDT_Byte\n",
    "    elif 'int16' in im_data.dtype.name:\n",
    "        datatype = gdal.GDT_UInt16\n",
    "    else:\n",
    "        datatype = gdal.GDT_Float32\n",
    "\n",
    "    # calculate number of bands\n",
    "    if len(im_data.shape) > 2:  \n",
    "        im_bands, im_height, im_width = im_data.shape\n",
    "    else:  \n",
    "        im_bands, (im_height, im_width) = 1, im_data.shape\n",
    "\n",
    "    # create new img\n",
    "    driver = gdal.GetDriverByName(\"GTiff\")\n",
    "    new_dataset = driver.Create(\n",
    "        out_path, im_width, im_height, im_bands, datatype)\n",
    "    new_dataset.SetGeoTransform(im_geotrans)\n",
    "    new_dataset.SetProjection(im_proj)\n",
    "    if im_bands == 1:\n",
    "        new_dataset.GetRasterBand(1).WriteArray(im_data)\n",
    "    else:\n",
    "        for i in range(im_bands):\n",
    "            new_dataset.GetRasterBand(i + 1).WriteArray(im_data[i])\n",
    "\n",
    "    del new_dataset\n",
    "\n",
    "def read_img(sr_img):\n",
    "    \"\"\"read img\n",
    "\n",
    "    Args:\n",
    "        sr_img: The full path of the original image\n",
    "\n",
    "    \"\"\"\n",
    "    im_dataset = gdal.Open(sr_img)\n",
    "    if im_dataset == None:\n",
    "        print('open sr_img false')\n",
    "        sys.exit(1)\n",
    "    im_geotrans = im_dataset.GetGeoTransform()\n",
    "    im_proj = im_dataset.GetProjection()\n",
    "    im_width = im_dataset.RasterXSize\n",
    "    im_height = im_dataset.RasterYSize\n",
    "    im_data = im_dataset.ReadAsArray(0, 0, im_width, im_height)\n",
    "    del im_dataset\n",
    "\n",
    "    return im_data, im_proj, im_geotrans\n",
    "\n",
    "\n",
    "def gray2color(image_gray, rgb_mapping):\n",
    "    image_gray_shape = np.shape(image_gray)\n",
    "    img_rgb = np.zeros(shape=(3, image_gray_shape[0], image_gray_shape[1]), dtype=np.uint8)\n",
    "    image_gray = np.array(image_gray)\n",
    "\n",
    "    for map_idx, rgb in enumerate(rgb_mapping):\n",
    "        idx = np.where(image_gray == map_idx)\n",
    "        for i in range(np.shape(idx)[1]):\n",
    "            img_rgb[:, idx[0][i], idx[1][i]] = rgb\n",
    "\n",
    "    return img_rgb"
   ]
  },
  {
   "cell_type": "code",
   "execution_count": 32,
   "metadata": {},
   "outputs": [],
   "source": [
    "images_path = r'C:\\Users\\75198\\OneDrive\\论文\\SCI-3-3 Remote sensing data augmentation\\图片\\7-预测结果展示图\\待预测原始影像\\predict_result_ASM_LV1'\n",
    "output_path = r'C:\\Users\\75198\\OneDrive\\论文\\SCI-3-3 Remote sensing data augmentation\\图片\\7-预测结果展示图\\待预测原始影像\\predict_result_ASM_LV1'\n",
    "\n",
    "if not os.path.exists(output_path):\n",
    "    os.mkdir(output_path)\n",
    "\n",
    "image_list = fnmatch.filter(os.listdir(images_path), '*.tif')  # 过滤出tif文件\n",
    "\n",
    "# 创建自定义颜色映射表\n",
    "cmap = np.array(\n",
    "    [\n",
    "        (0, 0, 0), #背景值\n",
    "        (205, 245, 122),\n",
    "        (122, 142, 245),\n",
    "    ],\n",
    "    dtype=np.uint8,\n",
    ")\n",
    "\n",
    "for img_name in image_list:\n",
    "    img_full_path = os.path.join(images_path + '/' + img_name)\n",
    "    output_full_path = output_path + '/' + img_name[:-4] + '.png'\n",
    "\n",
    "    '''读取img数据'''\n",
    "    data, proj_temp, geotrans_temp = read_img(img_full_path)\n",
    "\n",
    "    data_output = gray2color(data, cmap)\n",
    "\n",
    "    write_img(output_full_path, proj_temp, geotrans_temp, data_output)\n"
   ]
  }
 ],
 "metadata": {
  "kernelspec": {
   "display_name": "learn",
   "language": "python",
   "name": "python3"
  },
  "language_info": {
   "codemirror_mode": {
    "name": "ipython",
    "version": 3
   },
   "file_extension": ".py",
   "mimetype": "text/x-python",
   "name": "python",
   "nbconvert_exporter": "python",
   "pygments_lexer": "ipython3",
   "version": "3.6.2"
  },
  "orig_nbformat": 4
 },
 "nbformat": 4,
 "nbformat_minor": 2
}
