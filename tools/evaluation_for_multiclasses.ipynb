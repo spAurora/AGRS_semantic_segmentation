{
 "cells": [
  {
   "cell_type": "code",
   "execution_count": 9,
   "metadata": {},
   "outputs": [
    {
     "data": {
      "text/plain": [
       "'\\n多类别精度评定\\n\\n预测结果和真值标签均为栅格且带有地理坐标系\\n~~~~~~~~~~~~~~~~\\ncode by wHy\\nAerospace Information Research Institute, Chinese Academy of Sciences\\nwanghaoyu191@mails.ucas.ac.cn\\n'"
      ]
     },
     "execution_count": 9,
     "metadata": {},
     "output_type": "execute_result"
    }
   ],
   "source": [
    "#!/.conda/envs/dp python\n",
    "# -*- coding: utf-8 -*-\n",
    "\n",
    "\"\"\"\n",
    "多类别精度评定\n",
    "\n",
    "预测结果和真值标签均为栅格且带有地理坐标系\n",
    "~~~~~~~~~~~~~~~~\n",
    "code by wHy\n",
    "Aerospace Information Research Institute, Chinese Academy of Sciences\n",
    "wanghaoyu191@mails.ucas.ac.cn\n",
    "\"\"\""
   ]
  },
  {
   "cell_type": "code",
   "execution_count": 10,
   "metadata": {},
   "outputs": [],
   "source": [
    "import os\n",
    "from statistics import mean\n",
    "import sys\n",
    "import fnmatch\n",
    "import numpy as np\n",
    "import gdal\n",
    "import ogr\n",
    "import osr\n",
    "from sklearn.metrics import confusion_matrix, ConfusionMatrixDisplay\n",
    "from sklearn.metrics import accuracy_score\n",
    "from sklearn.metrics import balanced_accuracy_score\n",
    "from sklearn.metrics import precision_score\n",
    "from sklearn.metrics import recall_score\n",
    "from sklearn.metrics import f1_score\n",
    "from sklearn.metrics import classification_report\n",
    "import matplotlib.pyplot as plt"
   ]
  },
  {
   "cell_type": "code",
   "execution_count": 11,
   "metadata": {},
   "outputs": [
    {
     "name": "stdout",
     "output_type": "stream",
     "text": [
      "6896 4175\n",
      "(256, 256) (256, 256)\n",
      "<class 'numpy.ndarray'>\n",
      "971 10321\n",
      "(256, 256) (256, 256)\n",
      "<class 'numpy.ndarray'>\n",
      "2694 7874\n",
      "(256, 256) (256, 256)\n",
      "<class 'numpy.ndarray'>\n",
      "{0: 181792, 1: 10107, 2: 4709}\n",
      "{0: 188800, 1: 5499, 2: 2309}\n"
     ]
    }
   ],
   "source": [
    "os.environ['GDAL_DATA'] = r'C:\\Users\\75198\\.conda\\envs\\learn\\Lib\\site-packages\\GDAL-2.4.1-py3.6-win-amd64.egg-info\\gata-data' #防止报error4错误\n",
    "\n",
    "ground_truth_path = r'E:\\xinjiang_huyang_hongliu\\Huyang_test_0808\\1-raster_label\\1-raster_label_haze_lv3' # 存储真值标签的文件夹 真值标签应为栅格 带有地理坐标系\n",
    "predict_path = r'E:\\xinjiang_huyang_hongliu\\Huyang_test_0808\\3-predict_result\\3-predict_result_Unet-huyang_clear_mix_sim_haze_ATSC+supermix_LV3_rate_0.2_230425' # 存储预测栅格的文件 带有地理坐标系\n",
    "\n",
    "'''为了省事自动检索预测结果文件夹下的tif影像'''\n",
    "pre_pic_name = fnmatch.filter(os.listdir(predict_path), '*.tif')\n",
    "pre_pic_name_full = predict_path + '/' + pre_pic_name[0][:-4] + '.tif'\n",
    "\n",
    "im_data_pre_full = []\n",
    "im_data_true_full = []\n",
    "listpic = fnmatch.filter(os.listdir(ground_truth_path), '*.tif')\n",
    "for gt_name in listpic:\n",
    "    gt_full_path = ground_truth_path + '/' + gt_name[:-4] + '.tif'\n",
    "    '''以真值标签为参考，从预测栅格文件中裁剪出待评定部分'''\n",
    "    # 获取真值标签地理坐标信息\n",
    "    input_small = gdal.Open(gt_full_path)\n",
    "    geotransform_small = input_small.GetGeoTransform()\n",
    "    proj_small = input_small.GetProjection()\n",
    "    srs_small = osr.SpatialReference()\n",
    "    srs_small.ImportFromWkt(proj_small)\n",
    "\n",
    "    # 获取小的栅格影像的左上角和右下角地理坐标\n",
    "    xmin_small = geotransform_small[0]\n",
    "    ymax_small = geotransform_small[3]\n",
    "    xmax_small = geotransform_small[0] + geotransform_small[1] * input_small.RasterXSize\n",
    "    ymin_small = geotransform_small[3] + geotransform_small[5] * input_small.RasterYSize\n",
    "\n",
    "    # 打开大的栅格影像\n",
    "    input_large = gdal.Open(pre_pic_name_full)\n",
    "\n",
    "    # 获取大的栅格影像的地理参考信息\n",
    "    geotransform_large = input_large.GetGeoTransform()\n",
    "    proj_large = input_large.GetProjection()\n",
    "    srs_large = osr.SpatialReference()\n",
    "    srs_large.ImportFromWkt(proj_large)\n",
    "\n",
    "    # 计算小的栅格影像在大的栅格影像中的位置\n",
    "    x_offset = int((xmin_small - geotransform_large[0]) / geotransform_large[1])\n",
    "    y_offset = int((geotransform_large[3] - ymax_small) / abs(geotransform_large[5]))\n",
    "\n",
    "    print(x_offset, y_offset)\n",
    "\n",
    "    # 定义裁剪窗口大小\n",
    "    win_size = input_small.RasterXSize\n",
    "\n",
    "    # 计算裁剪窗口范围\n",
    "    xmin = geotransform_large[0] + x_offset * geotransform_large[1]\n",
    "    ymax = geotransform_large[3] - y_offset * abs(geotransform_large[5])\n",
    "    xmax = xmin + win_size * geotransform_large[1]\n",
    "    ymin = ymax - win_size * abs(geotransform_large[5])\n",
    "\n",
    "    # 整理数据\n",
    "    im_data_pre = input_large.ReadAsArray(x_offset, y_offset, win_size, win_size)  # 读取预测结果对应区域的数据\n",
    "    im_data_true = input_small.ReadAsArray(0, 0, win_size, win_size) # 读取真值标签区域数据\n",
    "\n",
    "    print(im_data_pre.shape, im_data_true.shape)\n",
    "    print(type(im_data_pre))\n",
    "\n",
    "    im_data_pre = list(im_data_pre.reshape(-1)) # 展平为一维\n",
    "    im_data_true = list(im_data_true.reshape(-1)) # 展平为一维\n",
    "\n",
    "    im_data_pre_full = im_data_pre_full + im_data_pre # 链接\n",
    "    im_data_true_full = im_data_true_full + im_data_true\n",
    "\n",
    "    \n",
    "unique_pre, count_pre=np.unique(im_data_pre_full,return_counts=True)\n",
    "data_count_pre=dict(zip(unique_pre, count_pre))\n",
    "unique_true,count_true=np.unique(im_data_true_full,return_counts=True)\n",
    "data_count_true=dict(zip(unique_true,count_true))\n",
    "print(data_count_pre)\n",
    "print(data_count_true)\n",
    "\n"
   ]
  },
  {
   "cell_type": "code",
   "execution_count": 12,
   "metadata": {},
   "outputs": [
    {
     "name": "stdout",
     "output_type": "stream",
     "text": [
      "Confusion matrix:\n",
      "[[0.95719809 0.02590572 0.01689619]\n",
      " [0.07492271 0.83487907 0.09019822]\n",
      " [0.28627111 0.27067995 0.44304894]] \n",
      "\n"
     ]
    },
    {
     "name": "stderr",
     "output_type": "stream",
     "text": [
      "c:\\Users\\75198\\.conda\\envs\\learn\\lib\\site-packages\\sklearn\\metrics\\_classification.py:1854: UserWarning: y_pred contains classes not in y_true\n",
      "  warnings.warn('y_pred contains classes not in y_true')\n",
      "c:\\Users\\75198\\.conda\\envs\\learn\\lib\\site-packages\\sklearn\\metrics\\_classification.py:1248: UndefinedMetricWarning: Recall and F-score are ill-defined and being set to 0.0 in labels with no true samples. Use `zero_division` parameter to control this behavior.\n",
      "  _warn_prf(average, modifier, msg_start, len(result))\n"
     ]
    },
    {
     "name": "stdout",
     "output_type": "stream",
     "text": [
      "Accuracy: 0.985076904296875\n",
      "Balanced Accuracy: 0.6882106601972711\n",
      "My Balanced Accuracy: 0.7450420336921884\n",
      "Precision: 0.484012779499349\n",
      "Recall: 0.4588071067981807\n",
      "F1 Score: 0.47042127429027\n",
      "\n",
      "\n",
      "              precision    recall  f1-score   support\n",
      "\n",
      "  background       1.00      0.99      0.99     64845\n",
      "     populus       0.00      0.00      0.00         0\n",
      "  red_willow       0.46      0.38      0.42       691\n",
      "\n",
      "    accuracy                           0.99     65536\n",
      "   macro avg       0.48      0.46      0.47     65536\n",
      "weighted avg       0.99      0.99      0.99     65536\n",
      "\n"
     ]
    },
    {
     "name": "stderr",
     "output_type": "stream",
     "text": [
      "c:\\Users\\75198\\.conda\\envs\\learn\\lib\\site-packages\\sklearn\\metrics\\_classification.py:1248: UndefinedMetricWarning: Recall and F-score are ill-defined and being set to 0.0 in labels with no true samples. Use `zero_division` parameter to control this behavior.\n",
      "  _warn_prf(average, modifier, msg_start, len(result))\n",
      "c:\\Users\\75198\\.conda\\envs\\learn\\lib\\site-packages\\sklearn\\metrics\\_classification.py:1248: UndefinedMetricWarning: Recall and F-score are ill-defined and being set to 0.0 in labels with no true samples. Use `zero_division` parameter to control this behavior.\n",
      "  _warn_prf(average, modifier, msg_start, len(result))\n"
     ]
    },
    {
     "data": {
      "text/plain": [
       "<Figure size 432x288 with 0 Axes>"
      ]
     },
     "metadata": {},
     "output_type": "display_data"
    },
    {
     "data": {
      "image/png": "[encoded data removed]",
      "text/plain": [
       "<Figure size 432x288 with 2 Axes>"
      ]
     },
     "metadata": {},
     "output_type": "display_data"
    }
   ],
   "source": [
    "'''精度评定部分'''\n",
    "'''计算混淆矩阵'''\n",
    "cm = confusion_matrix(im_data_true_full, im_data_pre_full, normalize='true')\n",
    "print(\"Confusion matrix:\")\n",
    "print(cm, '\\n')\n",
    "accuracy = accuracy_score(im_data_true, im_data_pre)\n",
    "balanced_accuracy = balanced_accuracy_score(im_data_true, im_data_pre)\n",
    "precision = precision_score(im_data_true, im_data_pre, average='macro', zero_division=0) # 'macro' 表示对所有类别的精确率求平均值\n",
    "recall = recall_score(im_data_true, im_data_pre, average='macro', zero_division=0) # 'macro' 表示对所有类别的召回率求平均值\n",
    "f1 = f1_score(im_data_true, im_data_pre, average='macro', zero_division=0)  # 'macro' 表示对所有类别的 F1 分数求平均值\n",
    "\n",
    "# 输出综合精度指标\n",
    "print('Accuracy:', accuracy)\n",
    "print('Balanced Accuracy:', balanced_accuracy)\n",
    "balanced_accuracy = (cm[0][0]+ cm[1][1] + cm[2][2])/3\n",
    "print('My Balanced Accuracy:', balanced_accuracy)\n",
    "print('Precision:', precision)\n",
    "print('Recall:', recall)\n",
    "print('F1 Score:', f1)\n",
    "print('\\n')\n",
    "\n",
    "# 生成分类报告\n",
    "report = classification_report(im_data_true, im_data_pre, target_names=['background', 'populus', 'red_willow'])\n",
    "print(report)\n",
    "\n",
    "# 画出混淆矩阵\n",
    "# ConfusionMatrixDisplay 需要的参数: confusion_matrix(混淆矩阵), display_labels(标签名称列表)\n",
    "labels = {'1', '2', '3'}\n",
    "disp = ConfusionMatrixDisplay(confusion_matrix=cm, display_labels=labels)\n",
    "disp.plot()\n",
    "plt.show()\n",
    "plt.clf()\n"
   ]
  }
 ],
 "metadata": {
  "kernelspec": {
   "display_name": "learn",
   "language": "python",
   "name": "python3"
  },
  "language_info": {
   "codemirror_mode": {
    "name": "ipython",
    "version": 3
   },
   "file_extension": ".py",
   "mimetype": "text/x-python",
   "name": "python",
   "nbconvert_exporter": "python",
   "pygments_lexer": "ipython3",
   "version": "3.6.2"
  },
  "orig_nbformat": 4,
  "vscode": {
   "interpreter": {
    "hash": "2b680ac8dc7cc885ee13e887d55220fc1d64a4b9c526c8bad05b28f452daf75d"
   }
  }
 },
 "nbformat": 4,
 "nbformat_minor": 2
}
