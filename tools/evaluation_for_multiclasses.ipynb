{
 "cells": [
  {
   "cell_type": "code",
   "execution_count": 17,
   "metadata": {},
   "outputs": [
    {
     "data": {
      "text/plain": [
       "'\\n多类别精度评定\\n\\n预测结果和真值标签均为栅格且带有地理坐标系\\n~~~~~~~~~~~~~~~~\\ncode by wHy\\nAerospace Information Research Institute, Chinese Academy of Sciences\\nwanghaoyu191@mails.ucas.ac.cn\\n'"
      ]
     },
     "execution_count": 17,
     "metadata": {},
     "output_type": "execute_result"
    }
   ],
   "source": [
    "#!/.conda/envs/learn python\n",
    "# -*- coding: utf-8 -*-\n",
    "\n",
    "\"\"\"\n",
    "多类别精度评定\n",
    "\n",
    "预测结果和真值标签均为栅格且带有地理坐标系\n",
    "~~~~~~~~~~~~~~~~\n",
    "code by wHy\n",
    "Aerospace Information Research Institute, Chinese Academy of Sciences\n",
    "wanghaoyu191@mails.ucas.ac.cn\n",
    "\"\"\""
   ]
  },
  {
   "cell_type": "code",
   "execution_count": 18,
   "metadata": {},
   "outputs": [],
   "source": [
    "import os\n",
    "from statistics import mean\n",
    "import sys\n",
    "import fnmatch\n",
    "import numpy as np\n",
    "import gdal\n",
    "import ogr\n",
    "import osr\n",
    "from sklearn.metrics import confusion_matrix, ConfusionMatrixDisplay\n",
    "from sklearn.metrics import accuracy_score\n",
    "from sklearn.metrics import balanced_accuracy_score\n",
    "from sklearn.metrics import precision_score\n",
    "from sklearn.metrics import recall_score\n",
    "from sklearn.metrics import f1_score\n",
    "from sklearn.metrics import classification_report\n",
    "import matplotlib.pyplot as plt"
   ]
  },
  {
   "cell_type": "code",
   "execution_count": 19,
   "metadata": {},
   "outputs": [
    {
     "name": "stdout",
     "output_type": "stream",
     "text": [
      "6896 4175\n",
      "(256, 256) (256, 256)\n",
      "<class 'numpy.ndarray'>\n",
      "971 10321\n",
      "(256, 256) (256, 256)\n",
      "<class 'numpy.ndarray'>\n",
      "2694 7874\n",
      "(256, 256) (256, 256)\n",
      "<class 'numpy.ndarray'>\n",
      "{0: 196098, 2: 510}\n",
      "{0: 189566, 1: 5571, 2: 1471}\n"
     ]
    }
   ],
   "source": [
    "os.environ['GDAL_DATA'] = r'C:\\Users\\75198\\.conda\\envs\\learn\\Lib\\site-packages\\GDAL-2.4.1-py3.6-win-amd64.egg-info\\gata-data' #防止报error4错误\n",
    "\n",
    "ground_truth_path = r'E:\\xinjiang_huyang_hongliu\\Huyang_test_0808\\1-raster_label\\1-raster_label_haze_lv3' # 存储真值标签的文件夹 真值标签应为栅格 带有地理坐标系\n",
    "predict_path = r'E:\\xinjiang_huyang_hongliu\\Huyang_test_0808\\3-predict_result\\1-predict_result_Unet-huyang_clear+lv3_230401' # 存储预测栅格的文件 带有地理坐标系\n",
    "\n",
    "'''为了省事自动检索预测结果文件夹下的tif影像'''\n",
    "pre_pic_name = fnmatch.filter(os.listdir(predict_path), '*.tif')\n",
    "pre_pic_name_full = predict_path + '/' + pre_pic_name[0][:-4] + '.tif'\n",
    "\n",
    "im_data_pre_full = []\n",
    "im_data_true_full = []\n",
    "listpic = fnmatch.filter(os.listdir(ground_truth_path), '*.tif')\n",
    "for gt_name in listpic:\n",
    "    gt_full_path = ground_truth_path + '/' + gt_name[:-4] + '.tif'\n",
    "    '''以真值标签为参考，从预测栅格文件中裁剪出待评定部分'''\n",
    "    # 获取真值标签地理坐标信息\n",
    "    input_small = gdal.Open(gt_full_path)\n",
    "    geotransform_small = input_small.GetGeoTransform()\n",
    "    proj_small = input_small.GetProjection()\n",
    "    srs_small = osr.SpatialReference()\n",
    "    srs_small.ImportFromWkt(proj_small)\n",
    "\n",
    "    # 获取小的栅格影像的左上角和右下角地理坐标\n",
    "    xmin_small = geotransform_small[0]\n",
    "    ymax_small = geotransform_small[3]\n",
    "    xmax_small = geotransform_small[0] + geotransform_small[1] * input_small.RasterXSize\n",
    "    ymin_small = geotransform_small[3] + geotransform_small[5] * input_small.RasterYSize\n",
    "\n",
    "    # 打开大的栅格影像\n",
    "    input_large = gdal.Open(pre_pic_name_full)\n",
    "\n",
    "    # 获取大的栅格影像的地理参考信息\n",
    "    geotransform_large = input_large.GetGeoTransform()\n",
    "    proj_large = input_large.GetProjection()\n",
    "    srs_large = osr.SpatialReference()\n",
    "    srs_large.ImportFromWkt(proj_large)\n",
    "\n",
    "    # 计算小的栅格影像在大的栅格影像中的位置\n",
    "    x_offset = int((xmin_small - geotransform_large[0]) / geotransform_large[1])\n",
    "    y_offset = int((geotransform_large[3] - ymax_small) / abs(geotransform_large[5]))\n",
    "\n",
    "    print(x_offset, y_offset)\n",
    "\n",
    "    # 定义裁剪窗口大小\n",
    "    win_size = input_small.RasterXSize\n",
    "\n",
    "    # 计算裁剪窗口范围\n",
    "    xmin = geotransform_large[0] + x_offset * geotransform_large[1]\n",
    "    ymax = geotransform_large[3] - y_offset * abs(geotransform_large[5])\n",
    "    xmax = xmin + win_size * geotransform_large[1]\n",
    "    ymin = ymax - win_size * abs(geotransform_large[5])\n",
    "\n",
    "    # 整理数据\n",
    "    im_data_pre = input_large.ReadAsArray(x_offset, y_offset, win_size, win_size)  # 读取预测结果对应区域的数据\n",
    "    im_data_true = input_small.ReadAsArray(0, 0, win_size, win_size) # 读取真值标签区域数据\n",
    "\n",
    "    print(im_data_pre.shape, im_data_true.shape)\n",
    "    print(type(im_data_pre))\n",
    "\n",
    "    im_data_pre = list(im_data_pre.reshape(-1)) # 展平为一维\n",
    "    im_data_true = list(im_data_true.reshape(-1)) # 展平为一维\n",
    "\n",
    "    im_data_pre_full = im_data_pre_full + im_data_pre # 链接\n",
    "    im_data_true_full = im_data_true_full + im_data_true\n",
    "\n",
    "    \n",
    "unique_pre, count_pre=np.unique(im_data_pre_full,return_counts=True)\n",
    "data_count_pre=dict(zip(unique_pre, count_pre))\n",
    "unique_true,count_true=np.unique(im_data_true_full,return_counts=True)\n",
    "data_count_true=dict(zip(unique_true,count_true))\n",
    "print(data_count_pre)\n",
    "print(data_count_true)\n",
    "\n"
   ]
  },
  {
   "cell_type": "code",
   "execution_count": 20,
   "metadata": {},
   "outputs": [
    {
     "name": "stdout",
     "output_type": "stream",
     "text": [
      "Confusion matrix:\n",
      "[[9.99952523e-01 0.00000000e+00 4.74768682e-05]\n",
      " [9.10070005e-01 0.00000000e+00 8.99299946e-02]\n",
      " [1.00000000e+00 0.00000000e+00 0.00000000e+00]] \n",
      "\n",
      "Accuracy: 0.9894561767578125\n",
      "Balanced Accuracy: 0.5\n",
      "My Balanced Accuracy: 0.3333175077105951\n",
      "Precision: 0.49472808837890625\n",
      "Recall: 0.5\n",
      "F1 Score: 0.49735007401385173\n",
      "\n",
      "\n"
     ]
    },
    {
     "ename": "ValueError",
     "evalue": "Number of classes, 2, does not match size of target_names, 3. Try specifying the labels parameter",
     "output_type": "error",
     "traceback": [
      "\u001b[1;31m---------------------------------------------------------------------------\u001b[0m",
      "\u001b[1;31mValueError\u001b[0m                                Traceback (most recent call last)",
      "\u001b[1;32m<ipython-input-20-674b60ececc5>\u001b[0m in \u001b[0;36m<module>\u001b[1;34m()\u001b[0m\n\u001b[0;32m     21\u001b[0m \u001b[1;33m\u001b[0m\u001b[0m\n\u001b[0;32m     22\u001b[0m \u001b[1;31m# 生成分类报告\u001b[0m\u001b[1;33m\u001b[0m\u001b[1;33m\u001b[0m\u001b[0m\n\u001b[1;32m---> 23\u001b[1;33m \u001b[0mreport\u001b[0m \u001b[1;33m=\u001b[0m \u001b[0mclassification_report\u001b[0m\u001b[1;33m(\u001b[0m\u001b[0mim_data_true\u001b[0m\u001b[1;33m,\u001b[0m \u001b[0mim_data_pre\u001b[0m\u001b[1;33m,\u001b[0m \u001b[0mtarget_names\u001b[0m\u001b[1;33m=\u001b[0m\u001b[1;33m[\u001b[0m\u001b[1;34m'background'\u001b[0m\u001b[1;33m,\u001b[0m \u001b[1;34m'populus'\u001b[0m\u001b[1;33m,\u001b[0m \u001b[1;34m'red_willow'\u001b[0m\u001b[1;33m]\u001b[0m\u001b[1;33m)\u001b[0m\u001b[1;33m\u001b[0m\u001b[0m\n\u001b[0m\u001b[0;32m     24\u001b[0m \u001b[0mprint\u001b[0m\u001b[1;33m(\u001b[0m\u001b[0mreport\u001b[0m\u001b[1;33m)\u001b[0m\u001b[1;33m\u001b[0m\u001b[0m\n\u001b[0;32m     25\u001b[0m \u001b[1;33m\u001b[0m\u001b[0m\n",
      "\u001b[1;32mc:\\Users\\75198\\.conda\\envs\\learn\\lib\\site-packages\\sklearn\\utils\\validation.py\u001b[0m in \u001b[0;36minner_f\u001b[1;34m(*args, **kwargs)\u001b[0m\n\u001b[0;32m     61\u001b[0m             \u001b[0mextra_args\u001b[0m \u001b[1;33m=\u001b[0m \u001b[0mlen\u001b[0m\u001b[1;33m(\u001b[0m\u001b[0margs\u001b[0m\u001b[1;33m)\u001b[0m \u001b[1;33m-\u001b[0m \u001b[0mlen\u001b[0m\u001b[1;33m(\u001b[0m\u001b[0mall_args\u001b[0m\u001b[1;33m)\u001b[0m\u001b[1;33m\u001b[0m\u001b[0m\n\u001b[0;32m     62\u001b[0m             \u001b[1;32mif\u001b[0m \u001b[0mextra_args\u001b[0m \u001b[1;33m<=\u001b[0m \u001b[1;36m0\u001b[0m\u001b[1;33m:\u001b[0m\u001b[1;33m\u001b[0m\u001b[0m\n\u001b[1;32m---> 63\u001b[1;33m                 \u001b[1;32mreturn\u001b[0m \u001b[0mf\u001b[0m\u001b[1;33m(\u001b[0m\u001b[1;33m*\u001b[0m\u001b[0margs\u001b[0m\u001b[1;33m,\u001b[0m \u001b[1;33m**\u001b[0m\u001b[0mkwargs\u001b[0m\u001b[1;33m)\u001b[0m\u001b[1;33m\u001b[0m\u001b[0m\n\u001b[0m\u001b[0;32m     64\u001b[0m \u001b[1;33m\u001b[0m\u001b[0m\n\u001b[0;32m     65\u001b[0m             \u001b[1;31m# extra_args > 0\u001b[0m\u001b[1;33m\u001b[0m\u001b[1;33m\u001b[0m\u001b[0m\n",
      "\u001b[1;32mc:\\Users\\75198\\.conda\\envs\\learn\\lib\\site-packages\\sklearn\\metrics\\_classification.py\u001b[0m in \u001b[0;36mclassification_report\u001b[1;34m(y_true, y_pred, labels, target_names, sample_weight, digits, output_dict, zero_division)\u001b[0m\n\u001b[0;32m   1992\u001b[0m                 \u001b[1;34m\"Number of classes, {0}, does not match size of \"\u001b[0m\u001b[1;33m\u001b[0m\u001b[0m\n\u001b[0;32m   1993\u001b[0m                 \u001b[1;34m\"target_names, {1}. Try specifying the labels \"\u001b[0m\u001b[1;33m\u001b[0m\u001b[0m\n\u001b[1;32m-> 1994\u001b[1;33m                 \u001b[1;34m\"parameter\"\u001b[0m\u001b[1;33m.\u001b[0m\u001b[0mformat\u001b[0m\u001b[1;33m(\u001b[0m\u001b[0mlen\u001b[0m\u001b[1;33m(\u001b[0m\u001b[0mlabels\u001b[0m\u001b[1;33m)\u001b[0m\u001b[1;33m,\u001b[0m \u001b[0mlen\u001b[0m\u001b[1;33m(\u001b[0m\u001b[0mtarget_names\u001b[0m\u001b[1;33m)\u001b[0m\u001b[1;33m)\u001b[0m\u001b[1;33m\u001b[0m\u001b[0m\n\u001b[0m\u001b[0;32m   1995\u001b[0m             )\n\u001b[0;32m   1996\u001b[0m     \u001b[1;32mif\u001b[0m \u001b[0mtarget_names\u001b[0m \u001b[1;32mis\u001b[0m \u001b[1;32mNone\u001b[0m\u001b[1;33m:\u001b[0m\u001b[1;33m\u001b[0m\u001b[0m\n",
      "\u001b[1;31mValueError\u001b[0m: Number of classes, 2, does not match size of target_names, 3. Try specifying the labels parameter"
     ]
    }
   ],
   "source": [
    "'''精度评定部分'''\n",
    "'''计算混淆矩阵'''\n",
    "cm = confusion_matrix(im_data_true_full, im_data_pre_full, normalize='true')\n",
    "print(\"Confusion matrix:\")\n",
    "print(cm, '\\n')\n",
    "accuracy = accuracy_score(im_data_true, im_data_pre)\n",
    "balanced_accuracy = balanced_accuracy_score(im_data_true, im_data_pre)\n",
    "precision = precision_score(im_data_true, im_data_pre, average='macro', zero_division=0) # 'macro' 表示对所有类别的精确率求平均值\n",
    "recall = recall_score(im_data_true, im_data_pre, average='macro', zero_division=0) # 'macro' 表示对所有类别的召回率求平均值\n",
    "f1 = f1_score(im_data_true, im_data_pre, average='macro', zero_division=0)  # 'macro' 表示对所有类别的 F1 分数求平均值\n",
    "\n",
    "# 输出综合精度指标\n",
    "print('Accuracy:', accuracy)\n",
    "print('Balanced Accuracy:', balanced_accuracy)\n",
    "balanced_accuracy = (cm[0][0]+ cm[1][1] + cm[2][2])/3\n",
    "print('My Balanced Accuracy:', balanced_accuracy)\n",
    "print('Precision:', precision)\n",
    "print('Recall:', recall)\n",
    "print('F1 Score:', f1)\n",
    "print('\\n')\n",
    "\n",
    "# 生成分类报告\n",
    "report = classification_report(im_data_true, im_data_pre, target_names=['background', 'populus', 'red_willow'])\n",
    "print(report)\n",
    "\n",
    "# 画出混淆矩阵\n",
    "# ConfusionMatrixDisplay 需要的参数: confusion_matrix(混淆矩阵), display_labels(标签名称列表)\n",
    "labels = {'1', '2', '3'}\n",
    "disp = ConfusionMatrixDisplay(confusion_matrix=cm, display_labels=labels)\n",
    "disp.plot()\n",
    "plt.show()\n",
    "plt.clf()\n"
   ]
  }
 ],
 "metadata": {
  "kernelspec": {
   "display_name": "learn",
   "language": "python",
   "name": "python3"
  },
  "language_info": {
   "codemirror_mode": {
    "name": "ipython",
    "version": 3
   },
   "file_extension": ".py",
   "mimetype": "text/x-python",
   "name": "python",
   "nbconvert_exporter": "python",
   "pygments_lexer": "ipython3",
   "version": "3.6.2"
  },
  "orig_nbformat": 4,
  "vscode": {
   "interpreter": {
    "hash": "2b680ac8dc7cc885ee13e887d55220fc1d64a4b9c526c8bad05b28f452daf75d"
   }
  }
 },
 "nbformat": 4,
 "nbformat_minor": 2
}
