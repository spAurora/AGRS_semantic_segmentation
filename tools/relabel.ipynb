{
 "cells": [
  {
   "cell_type": "code",
   "execution_count": 1,
   "metadata": {},
   "outputs": [
    {
     "name": "stderr",
     "output_type": "stream",
     "text": [
      "100%|██████████| 7842/7842 [01:22<00:00, 95.33it/s] \n"
     ]
    }
   ],
   "source": [
    "#!/.conda/envs/dp python\n",
    "# -*- coding: utf-8 -*-\n",
    "\n",
    "\"\"\"\n",
    "8位影像标签重映射\n",
    "比如原标签是1 10 20 30, 可以自动映射为0 1 2 3\n",
    "~~~~~~~~~~~~~~~~\n",
    "code by wHy\n",
    "Aerospace Information Research Institute, Chinese Academy of Sciences\n",
    "wanghaoyu191@mails.ucas.ac.cn\n",
    "\"\"\"\n",
    "from pathlib import Path\n",
    "import gdal\n",
    "import os\n",
    "import ogr\n",
    "import osr\n",
    "import sys\n",
    "import math\n",
    "from osgeo.ogr import Geometry, Layer\n",
    "from tqdm import tqdm\n",
    "import numpy as np\n",
    "import fnmatch\n",
    "import copy\n",
    "\n",
    "def write_img(out_path, im_proj, im_geotrans, im_data):\n",
    "    \"\"\"output img\n",
    "\n",
    "    Args:\n",
    "        out_path: Output path\n",
    "        im_proj: Affine transformation parameters\n",
    "        im_geotrans: spatial reference\n",
    "        im_data: Output image data\n",
    "\n",
    "    \"\"\"\n",
    "    # identify data type \n",
    "    if 'int8' in im_data.dtype.name:\n",
    "        datatype = gdal.GDT_Byte\n",
    "    elif 'int16' in im_data.dtype.name:\n",
    "        datatype = gdal.GDT_UInt16\n",
    "    else:\n",
    "        datatype = gdal.GDT_Float32\n",
    "\n",
    "    # calculate number of bands\n",
    "    if len(im_data.shape) > 2:  \n",
    "        im_bands, im_height, im_width = im_data.shape\n",
    "    else:  \n",
    "        im_bands, (im_height, im_width) = 1, im_data.shape\n",
    "\n",
    "    # create new img\n",
    "    driver = gdal.GetDriverByName(\"GTiff\")\n",
    "    new_dataset = driver.Create(\n",
    "        out_path, im_width, im_height, im_bands, datatype)\n",
    "    new_dataset.SetGeoTransform(im_geotrans)\n",
    "    new_dataset.SetProjection(im_proj)\n",
    "    if im_bands == 1:\n",
    "        new_dataset.GetRasterBand(1).WriteArray(im_data)\n",
    "    else:\n",
    "        for i in range(im_bands):\n",
    "            new_dataset.GetRasterBand(i + 1).WriteArray(im_data[i])\n",
    "\n",
    "    del new_dataset\n",
    "\n",
    "def read_img(sr_img):\n",
    "    \"\"\"read img\n",
    "\n",
    "    Args:\n",
    "        sr_img: The full path of the original image\n",
    "\n",
    "    \"\"\"\n",
    "    im_dataset = gdal.Open(sr_img)\n",
    "    if im_dataset == None:\n",
    "        print('open sr_img false')\n",
    "        sys.exit(1)\n",
    "    im_geotrans = im_dataset.GetGeoTransform()\n",
    "    im_proj = im_dataset.GetProjection()\n",
    "    im_width = im_dataset.RasterXSize\n",
    "    im_height = im_dataset.RasterYSize\n",
    "    im_data = im_dataset.ReadAsArray(0, 0, im_width, im_height)\n",
    "    del im_dataset\n",
    "\n",
    "    return im_data, im_proj, im_geotrans\n",
    "\n",
    "sr_label_path = r'E:\\YJS\\0-code\\3-data\\2-enhance_label' # 原始标签文件夹\n",
    "output_label_path = r'E:\\YJS\\0-code\\3-data\\2-enhance_relabel' # 重映射后的标签文件夹\n",
    "\n",
    "listlabel = fnmatch.filter(os.listdir(sr_label_path), '*.tif')\n",
    "\n",
    "uni_val=set()\n",
    "for label in tqdm(listlabel):\n",
    "    label_full_path = sr_label_path + '/' + label\n",
    "    '''读取label数据'''\n",
    "    data, proj_temp, geotrans_temp = read_img(label_full_path)\n",
    "    uni_val.update(list(np.unique(data)))\n"
   ]
  },
  {
   "cell_type": "code",
   "execution_count": 4,
   "metadata": {},
   "outputs": [
    {
     "name": "stdout",
     "output_type": "stream",
     "text": [
      "classnum 11\n"
     ]
    },
    {
     "name": "stderr",
     "output_type": "stream",
     "text": [
      "  6%|▌         | 480/7842 [00:08<02:23, 51.18it/s]"
     ]
    }
   ],
   "source": [
    "print(\"classnum\",len(uni_val))\n",
    "for label in tqdm(listlabel):\n",
    "    label_full_path = sr_label_path + '/' + label\n",
    "    data,*_ = read_img(label_full_path)\n",
    "\n",
    "    data_copy = copy.deepcopy(data)\n",
    "    for cnt, unique_value in enumerate(uni_val):\n",
    "        data_copy[data == unique_value] = cnt\n",
    "    \n",
    "    output_full_path = output_label_path + '/' + label\n",
    "    write_img(output_full_path, proj_temp, geotrans_temp, data_copy)"
   ]
  }
 ],
 "metadata": {
  "kernelspec": {
   "display_name": "tf2.3",
   "language": "python",
   "name": "python3"
  },
  "language_info": {
   "codemirror_mode": {
    "name": "ipython",
    "version": 3
   },
   "file_extension": ".py",
   "mimetype": "text/x-python",
   "name": "python",
   "nbconvert_exporter": "python",
   "pygments_lexer": "ipython3",
   "version": "3.7.3"
  },
  "orig_nbformat": 4
 },
 "nbformat": 4,
 "nbformat_minor": 2
}
