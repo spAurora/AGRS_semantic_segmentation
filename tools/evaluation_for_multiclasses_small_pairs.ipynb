{
 "cells": [
  {
   "cell_type": "code",
   "execution_count": 21,
   "metadata": {},
   "outputs": [
    {
     "data": {
      "text/plain": [
       "'\\n多类别精度评定\\n\\n预测结果和真值标签均为栅格\\n文件名相同，尺寸相同，不需要地理坐标系\\n~~~~~~~~~~~~~~~~\\ncode by wHy\\nAerospace Information Research Institute, Chinese Academy of Sciences\\nwanghaoyu191@mails.ucas.ac.cn\\n'"
      ]
     },
     "execution_count": 21,
     "metadata": {},
     "output_type": "execute_result"
    }
   ],
   "source": [
    "#!/.conda/envs/learn python\n",
    "# -*- coding: utf-8 -*-\n",
    "\n",
    "\"\"\"\n",
    "多类别精度评定\n",
    "\n",
    "预测结果和真值标签均为栅格\n",
    "文件名相同，尺寸相同，不需要地理坐标系\n",
    "~~~~~~~~~~~~~~~~\n",
    "code by wHy\n",
    "Aerospace Information Research Institute, Chinese Academy of Sciences\n",
    "wanghaoyu191@mails.ucas.ac.cn\n",
    "\"\"\""
   ]
  },
  {
   "cell_type": "code",
   "execution_count": 22,
   "metadata": {},
   "outputs": [],
   "source": [
    "import os\n",
    "from statistics import mean\n",
    "import sys\n",
    "import fnmatch\n",
    "import numpy as np\n",
    "import gdal\n",
    "import ogr\n",
    "import osr\n",
    "from sklearn.metrics import confusion_matrix, ConfusionMatrixDisplay\n",
    "from sklearn.metrics import accuracy_score\n",
    "from sklearn.metrics import balanced_accuracy_score\n",
    "from sklearn.metrics import precision_score\n",
    "from sklearn.metrics import recall_score\n",
    "from sklearn.metrics import f1_score\n",
    "from sklearn.metrics import classification_report\n",
    "import matplotlib.pyplot as plt"
   ]
  },
  {
   "cell_type": "code",
   "execution_count": 23,
   "metadata": {},
   "outputs": [
    {
     "name": "stdout",
     "output_type": "stream",
     "text": [
      "(256, 256) (256, 256)\n",
      "<class 'numpy.ndarray'>\n",
      "(256, 256) (256, 256)\n",
      "<class 'numpy.ndarray'>\n",
      "(256, 256) (256, 256)\n",
      "<class 'numpy.ndarray'>\n",
      "(196608,) (196608,)\n",
      "{0: 193618, 1: 88, 2: 2902}\n",
      "{0: 188800, 1: 5499, 2: 2309}\n"
     ]
    }
   ],
   "source": [
    "os.environ['GDAL_DATA'] = r'C:\\Users\\75198\\.conda\\envs\\learn\\Lib\\site-packages\\GDAL-2.4.1-py3.6-win-amd64.egg-info\\gata-data' #防止报error4错误\n",
    "\n",
    "ground_truth_path = r'E:\\xinjiang_huyang_hongliu\\Huyang_test_0808\\1-raster_label\\1-raster_label_haze_lv3' # 存储真值标签的文件夹 真值标签应为栅格 带有地理坐标系 _for_clear_Evaluation\n",
    "predict_path = r'C:\\Users\\75198\\OneDrive\\论文\\SCI-3-3 Remote sensing data augmentation\\240408补充实验\\其它\\LV3\\clahe\\predict_result' # 存储预测栅格的文件 带有地理坐标系\n",
    "\n",
    "'''为了省事自动检索预测结果文件夹下的tif影像'''\n",
    "pre_pic_name = fnmatch.filter(os.listdir(predict_path), '*.tif')\n",
    "pre_pic_name_full = predict_path + '/' + pre_pic_name[0][:-4] + '.tif'\n",
    "\n",
    "im_data_pre_full = []\n",
    "im_data_true_full = []\n",
    "listpic = fnmatch.filter(os.listdir(ground_truth_path), '*.tif')\n",
    "for gt_name in listpic:\n",
    "    gt_full_path = ground_truth_path + '/' + gt_name[:-4] + '.tif'\n",
    "    pre_pic_name_full = predict_path + '/' + gt_name[:-4] + '_result.tif'\n",
    "    '''以真值标签为参考，从预测栅格文件中裁剪出待评定部分'''\n",
    "    # 获取真值标签地理坐标信息\n",
    "    input_gt = gdal.Open(gt_full_path)\n",
    "\n",
    "    # 获取预测结果数据\n",
    "    input_pre = gdal.Open(pre_pic_name_full)\n",
    "\n",
    "    # 定义裁剪窗口大小\n",
    "    win_size = input_gt.RasterXSize\n",
    "\n",
    "    # 整理数据\n",
    "    im_data_pre = input_pre.ReadAsArray(0, 0, win_size, win_size)  # 读取预测结果对应区域的数据\n",
    "    im_data_true = input_gt.ReadAsArray(0, 0, win_size, win_size) # 读取真值标签区域数据\n",
    "\n",
    "    # print(im_data_pre.shape, im_data_true.shape)\n",
    "    # print(type(im_data_pre))\n",
    "\n",
    "    im_data_pre = list(im_data_pre.reshape(-1)) # 展平为一维\n",
    "    im_data_true = list(im_data_true.reshape(-1)) # 展平为一维\n",
    "\n",
    "    im_data_pre_full = im_data_pre_full + im_data_pre # 链接\n",
    "    im_data_true_full = im_data_true_full + im_data_true\n",
    "\n",
    "# print(np.shape(im_data_pre_full), np.shape(im_data_true_full))\n",
    "    \n",
    "unique_pre, count_pre=np.unique(im_data_pre_full,return_counts=True)\n",
    "data_count_pre=dict(zip(unique_pre, count_pre))\n",
    "unique_true,count_true=np.unique(im_data_true_full,return_counts=True)\n",
    "data_count_true=dict(zip(unique_true,count_true))\n",
    "# print(data_count_pre)\n",
    "# print(data_count_true)\n",
    "\n",
    "'''精度评定部分'''\n",
    "'''计算混淆矩阵'''\n",
    "cm = confusion_matrix(im_data_true_full, im_data_pre_full, normalize='true')\n",
    "print(np.shape(cm))\n",
    "\n",
    "\n",
    "\n"
   ]
  },
  {
   "cell_type": "code",
   "execution_count": 24,
   "metadata": {},
   "outputs": [
    {
     "name": "stdout",
     "output_type": "stream",
     "text": [
      "(3, 3)\n",
      "Confusion matrix:\n",
      "[[9.97372881e-01 1.58898305e-05 2.61122881e-03]\n",
      " [6.92489544e-01 1.54573559e-02 2.92053101e-01]\n",
      " [6.52230403e-01 0.00000000e+00 3.47769597e-01]] \n",
      "\n",
      "Accuracy: 0.99383544921875\n",
      "Balanced Accuracy: 0.7255670010831796\n",
      "My Balanced Accuracy: 0.4535332781556858\n",
      "Precision: 0.960001525573634\n",
      "Recall: 0.7255670010831796\n",
      "F1 Score: 0.8019486251106629\n",
      "\n",
      "\n"
     ]
    },
    {
     "ename": "ValueError",
     "evalue": "Number of classes, 2, does not match size of target_names, 3. Try specifying the labels parameter",
     "output_type": "error",
     "traceback": [
      "\u001b[1;31m---------------------------------------------------------------------------\u001b[0m",
      "\u001b[1;31mValueError\u001b[0m                                Traceback (most recent call last)",
      "\u001b[1;32m<ipython-input-24-0d86f497ad2c>\u001b[0m in \u001b[0;36m<module>\u001b[1;34m()\u001b[0m\n\u001b[0;32m     22\u001b[0m \u001b[1;33m\u001b[0m\u001b[0m\n\u001b[0;32m     23\u001b[0m \u001b[1;31m# 生成分类报告\u001b[0m\u001b[1;33m\u001b[0m\u001b[1;33m\u001b[0m\u001b[0m\n\u001b[1;32m---> 24\u001b[1;33m \u001b[0mreport\u001b[0m \u001b[1;33m=\u001b[0m \u001b[0mclassification_report\u001b[0m\u001b[1;33m(\u001b[0m\u001b[0mim_data_true\u001b[0m\u001b[1;33m,\u001b[0m \u001b[0mim_data_pre\u001b[0m\u001b[1;33m,\u001b[0m \u001b[0mtarget_names\u001b[0m\u001b[1;33m=\u001b[0m\u001b[1;33m[\u001b[0m\u001b[1;34m'background'\u001b[0m\u001b[1;33m,\u001b[0m \u001b[1;34m'populus'\u001b[0m\u001b[1;33m,\u001b[0m \u001b[1;34m'red_willow'\u001b[0m\u001b[1;33m]\u001b[0m\u001b[1;33m)\u001b[0m\u001b[1;33m\u001b[0m\u001b[0m\n\u001b[0m\u001b[0;32m     25\u001b[0m \u001b[0mprint\u001b[0m\u001b[1;33m(\u001b[0m\u001b[0mreport\u001b[0m\u001b[1;33m)\u001b[0m\u001b[1;33m\u001b[0m\u001b[0m\n\u001b[0;32m     26\u001b[0m \u001b[1;33m\u001b[0m\u001b[0m\n",
      "\u001b[1;32mc:\\Users\\75198\\.conda\\envs\\learn\\lib\\site-packages\\sklearn\\utils\\validation.py\u001b[0m in \u001b[0;36minner_f\u001b[1;34m(*args, **kwargs)\u001b[0m\n\u001b[0;32m     61\u001b[0m             \u001b[0mextra_args\u001b[0m \u001b[1;33m=\u001b[0m \u001b[0mlen\u001b[0m\u001b[1;33m(\u001b[0m\u001b[0margs\u001b[0m\u001b[1;33m)\u001b[0m \u001b[1;33m-\u001b[0m \u001b[0mlen\u001b[0m\u001b[1;33m(\u001b[0m\u001b[0mall_args\u001b[0m\u001b[1;33m)\u001b[0m\u001b[1;33m\u001b[0m\u001b[0m\n\u001b[0;32m     62\u001b[0m             \u001b[1;32mif\u001b[0m \u001b[0mextra_args\u001b[0m \u001b[1;33m<=\u001b[0m \u001b[1;36m0\u001b[0m\u001b[1;33m:\u001b[0m\u001b[1;33m\u001b[0m\u001b[0m\n\u001b[1;32m---> 63\u001b[1;33m                 \u001b[1;32mreturn\u001b[0m \u001b[0mf\u001b[0m\u001b[1;33m(\u001b[0m\u001b[1;33m*\u001b[0m\u001b[0margs\u001b[0m\u001b[1;33m,\u001b[0m \u001b[1;33m**\u001b[0m\u001b[0mkwargs\u001b[0m\u001b[1;33m)\u001b[0m\u001b[1;33m\u001b[0m\u001b[0m\n\u001b[0m\u001b[0;32m     64\u001b[0m \u001b[1;33m\u001b[0m\u001b[0m\n\u001b[0;32m     65\u001b[0m             \u001b[1;31m# extra_args > 0\u001b[0m\u001b[1;33m\u001b[0m\u001b[1;33m\u001b[0m\u001b[0m\n",
      "\u001b[1;32mc:\\Users\\75198\\.conda\\envs\\learn\\lib\\site-packages\\sklearn\\metrics\\_classification.py\u001b[0m in \u001b[0;36mclassification_report\u001b[1;34m(y_true, y_pred, labels, target_names, sample_weight, digits, output_dict, zero_division)\u001b[0m\n\u001b[0;32m   1992\u001b[0m                 \u001b[1;34m\"Number of classes, {0}, does not match size of \"\u001b[0m\u001b[1;33m\u001b[0m\u001b[0m\n\u001b[0;32m   1993\u001b[0m                 \u001b[1;34m\"target_names, {1}. Try specifying the labels \"\u001b[0m\u001b[1;33m\u001b[0m\u001b[0m\n\u001b[1;32m-> 1994\u001b[1;33m                 \u001b[1;34m\"parameter\"\u001b[0m\u001b[1;33m.\u001b[0m\u001b[0mformat\u001b[0m\u001b[1;33m(\u001b[0m\u001b[0mlen\u001b[0m\u001b[1;33m(\u001b[0m\u001b[0mlabels\u001b[0m\u001b[1;33m)\u001b[0m\u001b[1;33m,\u001b[0m \u001b[0mlen\u001b[0m\u001b[1;33m(\u001b[0m\u001b[0mtarget_names\u001b[0m\u001b[1;33m)\u001b[0m\u001b[1;33m)\u001b[0m\u001b[1;33m\u001b[0m\u001b[0m\n\u001b[0m\u001b[0;32m   1995\u001b[0m             )\n\u001b[0;32m   1996\u001b[0m     \u001b[1;32mif\u001b[0m \u001b[0mtarget_names\u001b[0m \u001b[1;32mis\u001b[0m \u001b[1;32mNone\u001b[0m\u001b[1;33m:\u001b[0m\u001b[1;33m\u001b[0m\u001b[0m\n",
      "\u001b[1;31mValueError\u001b[0m: Number of classes, 2, does not match size of target_names, 3. Try specifying the labels parameter"
     ]
    }
   ],
   "source": [
    "\n"
   ]
  }
 ],
 "metadata": {
  "kernelspec": {
   "display_name": "learn",
   "language": "python",
   "name": "python3"
  },
  "language_info": {
   "codemirror_mode": {
    "name": "ipython",
    "version": 3
   },
   "file_extension": ".py",
   "mimetype": "text/x-python",
   "name": "python",
   "nbconvert_exporter": "python",
   "pygments_lexer": "ipython3",
   "version": "3.6.2"
  },
  "orig_nbformat": 4,
  "vscode": {
   "interpreter": {
    "hash": "2b680ac8dc7cc885ee13e887d55220fc1d64a4b9c526c8bad05b28f452daf75d"
   }
  }
 },
 "nbformat": 4,
 "nbformat_minor": 2
}
